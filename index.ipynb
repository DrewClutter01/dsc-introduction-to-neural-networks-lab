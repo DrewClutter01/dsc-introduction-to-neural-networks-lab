{
 "cells": [
  {
   "cell_type": "markdown",
   "metadata": {},
   "source": [
    "# Introduction to Neural Networks - Lab"
   ]
  },
  {
   "cell_type": "markdown",
   "metadata": {},
   "source": [
    "## Introduction"
   ]
  },
  {
   "cell_type": "markdown",
   "metadata": {},
   "source": [
    "In this lab, you'll practice everything you have learned during the lecture. We know there is quite a bit of math involved, but don't worry! Using Python and trying things out yourself will actually make a lot of things much more clear! Before we start, let's load some necessary libraries so we can import our data."
   ]
  },
  {
   "cell_type": "markdown",
   "metadata": {},
   "source": [
    "## Objectives\n",
    "\n",
    "In this lab you will:\n",
    "\n",
    "- Import images using Keras \n",
    "- Build a \"shallow\" neural network from scratch "
   ]
  },
  {
   "cell_type": "markdown",
   "metadata": {},
   "source": [
    "As usual, we'll start by importing the necessary packages that we'll use in this lab. "
   ]
  },
  {
   "cell_type": "code",
   "execution_count": 7,
   "metadata": {},
   "outputs": [],
   "source": [
    "from keras.preprocessing.image import ImageDataGenerator, array_to_img, img_to_array, load_img\n",
    "#from tensorflow.keras.utils import array_to_img, img_to_array, load_img\n",
    "import numpy as np\n",
    "import os"
   ]
  },
  {
   "cell_type": "markdown",
   "metadata": {},
   "source": [
    "In this lab, you'll import a bunch of images to correctly classify them as \"Santa\", meaning that Santa is present on the image or \"not Santa\" meaning that something else is in the images. \n",
    "\n",
    "If you have a look at this GitHub repository, you'll notice that the images are simply stored in `.jpeg` files and stored under the folder `'/data'`. Luckily, `keras` has great modules that make importing images stored in this type of format easy. We'll do this for you in the cell below.\n",
    "\n",
    "The images in the `'/data'` folder have various resolutions. We will reshape them so they are all 64 x 64 pixels.\n",
    "\n",
    "Run the code as you see it below."
   ]
  },
  {
   "cell_type": "code",
   "execution_count": 8,
   "metadata": {},
   "outputs": [
    {
     "name": "stdout",
     "output_type": "stream",
     "text": [
      "Found 132 images belonging to 2 classes.\n",
      "Found 790 images belonging to 2 classes.\n"
     ]
    }
   ],
   "source": [
    "# Directory path\n",
    "train_data_dir = 'data/train'\n",
    "test_data_dir = 'data/validation'\n",
    "\n",
    "# Get all the data in the directory data/validation (132 images), and reshape them\n",
    "test_generator = ImageDataGenerator().flow_from_directory(\n",
    "        test_data_dir, \n",
    "        target_size=(64, 64), batch_size=132)\n",
    "\n",
    "# Get all the data in the directory data/train (790 images), and reshape them\n",
    "train_generator = ImageDataGenerator().flow_from_directory(\n",
    "        train_data_dir, \n",
    "        target_size=(64, 64), batch_size=790)\n",
    "\n",
    "# Create the datasets\n",
    "train_images, train_labels = next(train_generator)\n",
    "test_images, test_labels = next(test_generator)"
   ]
  },
  {
   "cell_type": "markdown",
   "metadata": {},
   "source": [
    "## Inspect and prepare data"
   ]
  },
  {
   "cell_type": "markdown",
   "metadata": {},
   "source": [
    "## Look at some images"
   ]
  },
  {
   "cell_type": "markdown",
   "metadata": {},
   "source": [
    "Note that we have four numpy arrays now: `train_images`, `train_labels`, `test_images`, and `test_labels`. We'll need to make some changes to the data in order to work with them, but before we do anything else, let's have a look at some of the images we loaded in `train_images`. You can use `array_to_img()` from `keras.processing.image` on any image (select any `train_images` using `train_images[index]` to look at it). "
   ]
  },
  {
   "cell_type": "code",
   "execution_count": 10,
   "metadata": {},
   "outputs": [
    {
     "data": {
      "image/png": "[encoded data removed]",
      "text/plain": [
       "<PIL.Image.Image image mode=RGB size=64x64 at 0x1A501BD0F10>"
      ]
     },
     "execution_count": 10,
     "metadata": {},
     "output_type": "execute_result"
    }
   ],
   "source": [
    "# Preview an image\n",
    "array_to_img(train_images[0])"
   ]
  },
  {
   "cell_type": "code",
   "execution_count": 13,
   "metadata": {},
   "outputs": [
    {
     "data": {
      "image/png": "[encoded data removed]",
      "text/plain": [
       "<PIL.Image.Image image mode=RGB size=64x64 at 0x1A5020D8D60>"
      ]
     },
     "execution_count": 13,
     "metadata": {},
     "output_type": "execute_result"
    }
   ],
   "source": [
    "# Preview another image\n",
    "array_to_img(train_images[6])"
   ]
  },
  {
   "cell_type": "markdown",
   "metadata": {},
   "source": [
    "## The shape of data"
   ]
  },
  {
   "cell_type": "markdown",
   "metadata": {},
   "source": [
    "Now, let's use `np.shape()` to look at what these numpy arrays look like."
   ]
  },
  {
   "cell_type": "code",
   "execution_count": 16,
   "metadata": {},
   "outputs": [
    {
     "name": "stdout",
     "output_type": "stream",
     "text": [
      "train: (790, 64, 64, 3), (790, 2)\n",
      "test: (132, 64, 64, 3), (132, 2)\n"
     ]
    }
   ],
   "source": [
    "# Preview the shape of both the images and labels for both the train and test sets (4 objects total)\n",
    "print(f\"train: {np.shape(train_images)}, {np.shape(train_labels)}\")\n",
    "print(f\"test: {np.shape(test_images)}, {np.shape(test_labels)}\")\n"
   ]
  },
  {
   "cell_type": "markdown",
   "metadata": {},
   "source": [
    "##  `train_images` and `test_images`"
   ]
  },
  {
   "cell_type": "markdown",
   "metadata": {},
   "source": [
    "Let's start with `train_images`. From the lesson, you might remember that the expected input shape is $n$ x $l$. How does this relate to what we see here?\n",
    "\n",
    "$l$ denotes the number of observations, or the number of images. The number of images in `train_images` is 790. $n$ is the number of elements in the feature vector for each image, or put differently, $n$ is the number of rows when unrowing the 3 (RGB) 64 x 64 matrices. \n",
    "\n",
    "So, translated to this example, we need to transform our `(790, 64, 64, 3)` matrix to a `(64*64*3, 790)` matrix! \n",
    "\n",
    "\n",
    "> Hint: You should use both the `.reshape()` method and then transpose the result using `.T`."
   ]
  },
  {
   "cell_type": "code",
   "execution_count": 163,
   "metadata": {},
   "outputs": [],
   "source": [
    "# Reshape the train images \n",
    "train_img_unrow = train_images.reshape(790,64*64*3).T"
   ]
  },
  {
   "cell_type": "markdown",
   "metadata": {},
   "source": [
    "Verify that the shape of the the newly created `train_img_unrow` is correct."
   ]
  },
  {
   "cell_type": "code",
   "execution_count": 164,
   "metadata": {},
   "outputs": [
    {
     "data": {
      "text/plain": [
       "(12288, 790)"
      ]
     },
     "execution_count": 164,
     "metadata": {},
     "output_type": "execute_result"
    }
   ],
   "source": [
    "# Preview the shape of train_img_unrow\n",
    "train_img_unrow.shape"
   ]
  },
  {
   "cell_type": "markdown",
   "metadata": {},
   "source": [
    "Next, let's transform `test_images` in a similar way. Note that the dimensions are different here! Where we needed to have a matrix shape of $n$ x $l$ for `train_images`; for `test_images`, we need to get to a shape of $n$ x $m$. What is $m$ here?"
   ]
  },
  {
   "cell_type": "code",
   "execution_count": 165,
   "metadata": {},
   "outputs": [],
   "source": [
    "# Define appropriate m \n",
    "m = 132\n",
    "test_img_unrow = test_images.reshape(m, -1).T"
   ]
  },
  {
   "cell_type": "code",
   "execution_count": 166,
   "metadata": {},
   "outputs": [
    {
     "data": {
      "text/plain": [
       "(12288, 132)"
      ]
     },
     "execution_count": 166,
     "metadata": {},
     "output_type": "execute_result"
    }
   ],
   "source": [
    "# Preview the shape of test_img_unrow\n",
    "test_img_unrow.shape"
   ]
  },
  {
   "cell_type": "markdown",
   "metadata": {},
   "source": [
    "## `train_labels` and `test_labels`"
   ]
  },
  {
   "cell_type": "markdown",
   "metadata": {},
   "source": [
    "Earlier, you noticed that `train_labels` and `test_labels` have shapes of $(790, 2)$ and $(132, 2)$ respectively. In the lesson, we expected $1$ x $l$ and $1$ x $m$.\n",
    "\n",
    "Let's have a closer look."
   ]
  },
  {
   "cell_type": "code",
   "execution_count": 103,
   "metadata": {},
   "outputs": [
    {
     "data": {
      "text/plain": [
       "array([[1., 0.],\n",
       "       [1., 0.],\n",
       "       [1., 0.],\n",
       "       ...,\n",
       "       [1., 0.],\n",
       "       [1., 0.],\n",
       "       [0., 1.]], dtype=float32)"
      ]
     },
     "execution_count": 103,
     "metadata": {},
     "output_type": "execute_result"
    }
   ],
   "source": [
    "# Run this cell; no need to edit\n",
    "train_labels "
   ]
  },
  {
   "cell_type": "markdown",
   "metadata": {},
   "source": [
    "Looking at this, it's clear that for each observation (or image), `train_labels` doesn't simply have an output of 1 or 0, but a pair - either `[0, 1]` or `[1, 0]`.\n",
    "\n",
    "Having this information, we still don't know which pair corresponds with `santa` versus `not_santa`. Luckily, this was stored using `keras.preprocessing_image`, and you can get more info using the command `train_generator.class_indices`."
   ]
  },
  {
   "cell_type": "code",
   "execution_count": 104,
   "metadata": {},
   "outputs": [
    {
     "data": {
      "text/plain": [
       "{'not_santa': 0, 'santa': 1}"
      ]
     },
     "execution_count": 104,
     "metadata": {},
     "output_type": "execute_result"
    }
   ],
   "source": [
    "# Run this cell; no need to edit\n",
    "train_generator.class_indices "
   ]
  },
  {
   "cell_type": "markdown",
   "metadata": {},
   "source": [
    "Index 0 (the first column) represents `not_santa`, index 1 represents `santa`. Select one of the two columns and transpose the result such that you get $1$ x $l$ and $1$ x $m$ vectors respectively, and value `1` represents `santa`. "
   ]
  },
  {
   "cell_type": "code",
   "execution_count": 167,
   "metadata": {},
   "outputs": [],
   "source": [
    "# Your code here\n",
    "train_labels_final = train_labels.T[[1]]"
   ]
  },
  {
   "cell_type": "code",
   "execution_count": 168,
   "metadata": {},
   "outputs": [
    {
     "data": {
      "text/plain": [
       "(1, 790)"
      ]
     },
     "execution_count": 168,
     "metadata": {},
     "output_type": "execute_result"
    }
   ],
   "source": [
    "# Run this cell; no need to edit\n",
    "np.shape(train_labels_final) "
   ]
  },
  {
   "cell_type": "code",
   "execution_count": 169,
   "metadata": {},
   "outputs": [],
   "source": [
    "# Your code here\n",
    "test_labels_final = test_labels.T[[1]]"
   ]
  },
  {
   "cell_type": "code",
   "execution_count": 170,
   "metadata": {},
   "outputs": [
    {
     "data": {
      "text/plain": [
       "(1, 132)"
      ]
     },
     "execution_count": 170,
     "metadata": {},
     "output_type": "execute_result"
    }
   ],
   "source": [
    "# Run this cell; no need to edit\n",
    "np.shape(test_labels_final) "
   ]
  },
  {
   "cell_type": "markdown",
   "metadata": {},
   "source": [
    "As a final sanity check, look at an image and the corresponding label, so we're sure that santa is indeed stored as 1.\n",
    "\n",
    "- First, use `array_to_image()` again on the original `train_images` with index 240 to look at this particular image \n",
    "- Use `train_labels_final` to get the 240th label "
   ]
  },
  {
   "cell_type": "code",
   "execution_count": 171,
   "metadata": {},
   "outputs": [
    {
     "data": {
      "image/png": "[encoded data removed]",
      "text/plain": [
       "<PIL.Image.Image image mode=RGB size=64x64 at 0x1A502159C10>"
      ]
     },
     "execution_count": 171,
     "metadata": {},
     "output_type": "execute_result"
    }
   ],
   "source": [
    "# Preview train image at index 240\n",
    "array_to_img(train_images[240])"
   ]
  },
  {
   "cell_type": "code",
   "execution_count": 172,
   "metadata": {},
   "outputs": [
    {
     "data": {
      "text/plain": [
       "array([1., 0.], dtype=float32)"
      ]
     },
     "execution_count": 172,
     "metadata": {},
     "output_type": "execute_result"
    }
   ],
   "source": [
    "# Preview train label at index 240\n",
    "train_labels[240]"
   ]
  },
  {
   "cell_type": "markdown",
   "metadata": {},
   "source": [
    "This seems to be correct! Feel free to try out other indices as well."
   ]
  },
  {
   "cell_type": "markdown",
   "metadata": {},
   "source": [
    "## Standardize the data"
   ]
  },
  {
   "cell_type": "markdown",
   "metadata": {},
   "source": [
    "Remember that each RGB pixel in an image takes a value between 0 and 255. In Deep Learning, it is very common to standardize and/or center your dataset. For images, a common thing that is done is to make sure each pixel value is between 0 and 1. This can be done by dividing the entire matrix by 255. Do this here for the `train_img_unrow` and `test_img_unrow`. "
   ]
  },
  {
   "cell_type": "code",
   "execution_count": 173,
   "metadata": {},
   "outputs": [
    {
     "data": {
      "text/plain": [
       "numpy.ndarray"
      ]
     },
     "execution_count": 173,
     "metadata": {},
     "output_type": "execute_result"
    }
   ],
   "source": [
    "# Your code here \n",
    "train_img_final = train_img_unrow/255\n",
    "test_img_final = test_img_unrow/255\n",
    "\n",
    "type(test_img_unrow)"
   ]
  },
  {
   "cell_type": "markdown",
   "metadata": {},
   "source": [
    "## Build a logistic regression-based neural network"
   ]
  },
  {
   "cell_type": "markdown",
   "metadata": {},
   "source": [
    "## Math recap"
   ]
  },
  {
   "cell_type": "markdown",
   "metadata": {},
   "source": [
    "Now we can go ahead and build our own basic logistic regression-based neural network to distinguish images with Santa from images without Santa. You saw in the lesson that logistic regression can actually be represented as a very simple neural network.\n",
    "\n",
    "Remember that we defined that, for each $x^{(i)}$:\n",
    "\n",
    "\n",
    "$$ \\mathcal{L}(\\hat y ^{(i)}, y^{(i)}) =  - \\big( y^{(i)} \\log(\\hat y^{(i)}) + (1-y^{(i)} )  \\log(1-\\hat y^{(i)})\\big)$$\n",
    "\n",
    "$$\\hat{y}^{(i)} = \\sigma(z^{(i)}) = \\frac{1}{1 + e^{-(z^{(i)})}}$$ \n",
    "\n",
    "$$z^{(i)} = w^T x^{(i)} + b$$\n",
    "\n",
    "The cost function is then given by:\n",
    "$$J(w,b) = \\dfrac{1}{l}\\displaystyle\\sum^l_{i=1}\\mathcal{L}(\\hat y^{(i)}, y^{(i)})$$"
   ]
  },
  {
   "cell_type": "markdown",
   "metadata": {},
   "source": [
    "In the remainder of this lab, you'll do the following:\n",
    "\n",
    "   - Initialize the parameters of the model\n",
    "   - Perform forward propagation, and calculate the current loss\n",
    "   - Perform backward propagation (which is basically calculating the current gradient)\n",
    "   - Update the parameters (gradient descent)"
   ]
  },
  {
   "cell_type": "markdown",
   "metadata": {},
   "source": [
    "## Parameter initialization"
   ]
  },
  {
   "cell_type": "markdown",
   "metadata": {},
   "source": [
    "$w$ and $b$ are the unknown parameters to start with: \n",
    "- remember that $b$ is a scalar\n",
    "- $w$ however, is a vector of shape $n$ x $1$, with $n$ being `horizontal_pixel x vertical_pixel x 3`"
   ]
  },
  {
   "cell_type": "markdown",
   "metadata": {},
   "source": [
    "## Initialize $b$"
   ]
  },
  {
   "cell_type": "markdown",
   "metadata": {},
   "source": [
    " Initialize $b$ as a scalar with value 0."
   ]
  },
  {
   "cell_type": "code",
   "execution_count": 223,
   "metadata": {},
   "outputs": [],
   "source": [
    "# Your code here\n",
    "b = 0"
   ]
  },
  {
   "cell_type": "markdown",
   "metadata": {},
   "source": [
    "## Initialize $w$"
   ]
  },
  {
   "cell_type": "markdown",
   "metadata": {},
   "source": [
    "Define a function `init_w()`, with a parameter `n`. The function should return an array with zeros that has a shape $n$ x $1$."
   ]
  },
  {
   "cell_type": "code",
   "execution_count": 224,
   "metadata": {},
   "outputs": [],
   "source": [
    "# Define your function\n",
    "def init_w(n):\n",
    "    return np.zeros((n,1))"
   ]
  },
  {
   "cell_type": "code",
   "execution_count": 225,
   "metadata": {},
   "outputs": [],
   "source": [
    "# Call your function using appropriate parameters\n",
    "n = 64*64*3\n",
    "w = init_w(n)"
   ]
  },
  {
   "cell_type": "markdown",
   "metadata": {},
   "source": [
    "## Forward propagation"
   ]
  },
  {
   "cell_type": "markdown",
   "metadata": {},
   "source": [
    "In forward propagation, you:\n",
    "- get `x`\n",
    "- compute `y_hat`: \n",
    "\n",
    "$$ (\\hat y^{(1)}, \\hat y^{(2)}, \\ldots , \\hat y^{(l)})= \\sigma(w^T x + b) = \\Biggr(\\dfrac{1}{1+exp(w^T x^{(1)}+ b)},\\ldots, \\dfrac{1}{1+exp(w^T x^{(l)}+ b)}\\Biggr) $$\n",
    "- You calculate the `cost` function: $J(w,b) = -\\dfrac{1}{l}\\displaystyle\\sum_{i=1}^{l}y^{(i)}\\log(\\hat y^{(i)})+(1-y^{(i)})\\log(1-\\hat y^{(i)})$\n",
    "\n",
    "Here are the two formulas you will be using to compute the gradients. Don't be scared by the mathematics. The long formulas are just to show that this corresponds with what we derived in the lesson!\n",
    "\n",
    "$$ \\frac{dJ(w,b)}{dw} = \\displaystyle\\frac{1}{l}\\displaystyle\\sum^l_{i=1} \\frac{d\\mathcal{L}(\\hat y^{(i)}, y^{(i)})}{dw}= \\displaystyle\\frac{1}{l}\\displaystyle\\sum^l_{i=1} x^{(i)} dz^{(i)}  = \\displaystyle\\frac{1}{l}\\displaystyle\\sum^l_{i=1} x^{(i)}(\\hat y^{(i)}-y^{(i)})  = \\frac{1}{l}x(\\hat y-y)^T$$\n",
    "\n",
    "$$ \\frac{dJ(w,b)}{db} = \\displaystyle\\frac{1}{l}\\displaystyle\\sum^l_{i=1} \\frac{d\\mathcal{L}(\\hat y^{(i)}, y^{(i)})}{db}= \\displaystyle\\frac{1}{l}\\displaystyle\\sum^l_{i=1} dz^{(i)}  = \\displaystyle\\frac{1}{l}\\displaystyle\\sum^l_{i=1} (\\hat y^{(i)}-y^{(i)})$$"
   ]
  },
  {
   "cell_type": "code",
   "execution_count": 226,
   "metadata": {},
   "outputs": [],
   "source": [
    "# Define the propagation function\n",
    "def propogation(x, y, w, b):\n",
    "    z = w.T.dot(x) + b\n",
    "    y_hat = 1/(1 + np.exp(-z))\n",
    "\n",
    "    l = x.shape[1]\n",
    "    \n",
    "    cost = (-1/l) * np.sum(y * np.log(y_hat) + (1 - y)*np.log(1 - y_hat))\n",
    "    \n",
    "    dw = x.dot((y_hat-y).T) / l\n",
    "    db = np.sum(y_hat - y) / l\n",
    "    \n",
    "    return dw, db, cost"
   ]
  },
  {
   "cell_type": "code",
   "execution_count": 227,
   "metadata": {},
   "outputs": [],
   "source": [
    "# Use the propogation function\n",
    "dw, db, cost = propogation(train_img_final, train_labels_final, w, b)"
   ]
  },
  {
   "cell_type": "code",
   "execution_count": 228,
   "metadata": {},
   "outputs": [
    {
     "name": "stdout",
     "output_type": "stream",
     "text": [
      "[[-0.05784065]\n",
      " [-0.05436336]\n",
      " [-0.06367089]\n",
      " ...\n",
      " [-0.07482998]\n",
      " [-0.06692231]\n",
      " [-0.07262596]]\n",
      "-0.01139240506329114\n",
      "0.6931471805599452\n"
     ]
    }
   ],
   "source": [
    "print(dw)\n",
    "\n",
    "print(db)\n",
    "\n",
    "print(cost)"
   ]
  },
  {
   "cell_type": "markdown",
   "metadata": {},
   "source": [
    "## Optimization"
   ]
  },
  {
   "cell_type": "markdown",
   "metadata": {},
   "source": [
    "Next, in the optimization step, we have to update $w$ and $b$ as follows:\n",
    "\n",
    "$$w := w - \\alpha * dw$$\n",
    "$$b := b - \\alpha * db$$\n",
    "\n",
    "Note that this `optimization()` function uses the `propagation()` function. It loops over the `propagation()` function in each iteration, and updates both $w$ and $b$ right after that! "
   ]
  },
  {
   "cell_type": "code",
   "execution_count": 229,
   "metadata": {},
   "outputs": [],
   "source": [
    "# Complete the function below using your propagation function to define dw, db and cost \n",
    "# Then use the formula above to update w and b in the optimization function \n",
    "def optimization(w, b, x, y, num_iterations, learning_rate, print_cost = False):\n",
    "    \n",
    "    costs = []\n",
    "    \n",
    "    for i in range(num_iterations):\n",
    "        dw, db, cost = propogation(x, y, w, b)\n",
    "        w = w - learning_rate*dw\n",
    "        b = b - learning_rate*db\n",
    "        \n",
    "        # Record the costs and print them every 50 iterations\n",
    "        if i % 50 == 0:\n",
    "            costs.append(cost)\n",
    "        if print_cost and i % 50 == 0:\n",
    "            print (\"Cost after iteration %i: %f\" %(i, cost))\n",
    "    \n",
    "    return w, b, costs"
   ]
  },
  {
   "cell_type": "code",
   "execution_count": 230,
   "metadata": {},
   "outputs": [
    {
     "name": "stdout",
     "output_type": "stream",
     "text": [
      "Cost after iteration 0: 0.693147\n",
      "Cost after iteration 50: 0.675005\n",
      "Cost after iteration 100: 0.668414\n",
      "Cost after iteration 150: 0.662114\n"
     ]
    }
   ],
   "source": [
    "# Run this block of code as is\n",
    "w, b, costs = optimization(w, b, train_img_final, train_labels_final, \n",
    "                           num_iterations= 151, learning_rate = 0.0001, print_cost = True)"
   ]
  },
  {
   "cell_type": "markdown",
   "metadata": {},
   "source": [
    "## Make label predictions: Santa or not?"
   ]
  },
  {
   "cell_type": "markdown",
   "metadata": {},
   "source": [
    "Next, let's create a function that makes label predictions. We'll later use this when we will look at our Santa pictures. What we want is a label that is equal to 1 when the predicted $y$ is bigger than 0.5, and 0 otherwise. "
   ]
  },
  {
   "cell_type": "code",
   "execution_count": 232,
   "metadata": {},
   "outputs": [],
   "source": [
    "def prediction(w, b, x):\n",
    "    l = x.shape[1]\n",
    "    y_prediction = np.zeros((1,l))\n",
    "    w = w.reshape(x.shape[0], 1)\n",
    "    y_hat = 1/(1 + np.exp(-(w.T.dot(x) + b)))\n",
    "    p = y_hat\n",
    "    \n",
    "    for i in range(y_hat.shape[1]):\n",
    "        # Transform the probability into a binary classification using 0.5 as the cutoff\n",
    "        if y_hat[0,i] > 0.5:\n",
    "            y_prediction[0,i] = 1\n",
    "        else:\n",
    "            y_prediction[0,i] = 0\n",
    "    return y_prediction"
   ]
  },
  {
   "cell_type": "markdown",
   "metadata": {},
   "source": [
    "Let's try this out on a small example. Make sure you have 4 predictions in your output here!"
   ]
  },
  {
   "cell_type": "code",
   "execution_count": 233,
   "metadata": {},
   "outputs": [
    {
     "data": {
      "text/plain": [
       "array([[1., 1., 0., 0.]])"
      ]
     },
     "execution_count": 233,
     "metadata": {},
     "output_type": "execute_result"
    }
   ],
   "source": [
    "# Run this block of code as is\n",
    "w = np.array([[0.035], [0.123], [0.217]])\n",
    "b = 0.2\n",
    "x = np.array([[0.2, 0.4, -1.2, -2], \n",
    "              [1, -2., 0.1, -1], \n",
    "              [0.2, 0.4, -1.2, -2]])\n",
    "\n",
    "prediction(w, b, x)"
   ]
  },
  {
   "cell_type": "markdown",
   "metadata": {},
   "source": [
    "## The overall model"
   ]
  },
  {
   "cell_type": "markdown",
   "metadata": {},
   "source": [
    "Now, let's build the overall model!"
   ]
  },
  {
   "cell_type": "code",
   "execution_count": 234,
   "metadata": {},
   "outputs": [],
   "source": [
    "# Review this code carefully\n",
    "def model(x_train, y_train, x_test, y_test, num_iterations = 2000, learning_rate = 0.5, print_cost = False):\n",
    "\n",
    "    b = 0\n",
    "    w = init_w(np.shape(x_train)[0])\n",
    "\n",
    "    # Gradient descent (≈ 1 line of code)\n",
    "    w, b, costs = optimization(w, b, x_train, y_train, num_iterations, learning_rate, print_cost)\n",
    "    \n",
    "    y_pred_test = prediction(w, b, x_test)\n",
    "    y_pred_train = prediction(w, b, x_train)\n",
    "\n",
    "    # Print train/test errors\n",
    "    print('train accuracy: {} %'.format(100 - np.mean(np.abs(y_pred_train - y_train)) * 100))\n",
    "    print('test accuracy: {} %'.format(100 - np.mean(np.abs(y_pred_test - y_test)) * 100))\n",
    "\n",
    "    output = {'costs': costs, \n",
    "              'y_pred_test': y_pred_test,  \n",
    "              'y_pred_train' : y_pred_train,  \n",
    "              'w' : w, \n",
    "              'b' : b, \n",
    "              'learning_rate' : learning_rate, \n",
    "              'num_iterations': num_iterations}\n",
    "    \n",
    "    return output"
   ]
  },
  {
   "cell_type": "code",
   "execution_count": 235,
   "metadata": {},
   "outputs": [
    {
     "name": "stdout",
     "output_type": "stream",
     "text": [
      "Cost after iteration 0: 0.693147\n",
      "Cost after iteration 50: 0.880402\n",
      "Cost after iteration 100: 0.763331\n",
      "Cost after iteration 150: 0.628797\n",
      "Cost after iteration 200: 0.518186\n",
      "Cost after iteration 250: 0.442320\n",
      "Cost after iteration 300: 0.391254\n",
      "Cost after iteration 350: 0.354488\n",
      "Cost after iteration 400: 0.326262\n",
      "Cost after iteration 450: 0.304070\n",
      "Cost after iteration 500: 0.287473\n",
      "Cost after iteration 550: 0.276690\n",
      "Cost after iteration 600: 0.269139\n",
      "Cost after iteration 650: 0.262364\n",
      "Cost after iteration 700: 0.255995\n",
      "Cost after iteration 750: 0.249976\n",
      "Cost after iteration 800: 0.244271\n",
      "Cost after iteration 850: 0.238848\n",
      "Cost after iteration 900: 0.233684\n",
      "Cost after iteration 950: 0.228756\n",
      "Cost after iteration 1000: 0.224046\n",
      "Cost after iteration 1050: 0.219537\n",
      "Cost after iteration 1100: 0.215215\n",
      "Cost after iteration 1150: 0.211066\n",
      "Cost after iteration 1200: 0.207080\n",
      "Cost after iteration 1250: 0.203246\n",
      "Cost after iteration 1300: 0.199553\n",
      "Cost after iteration 1350: 0.195995\n",
      "Cost after iteration 1400: 0.192562\n",
      "Cost after iteration 1450: 0.189248\n",
      "Cost after iteration 1500: 0.186047\n",
      "Cost after iteration 1550: 0.182951\n",
      "Cost after iteration 1600: 0.179957\n",
      "Cost after iteration 1650: 0.177057\n",
      "Cost after iteration 1700: 0.174249\n",
      "Cost after iteration 1750: 0.171527\n",
      "Cost after iteration 1800: 0.168887\n",
      "Cost after iteration 1850: 0.166326\n",
      "Cost after iteration 1900: 0.163839\n",
      "Cost after iteration 1950: 0.161424\n",
      "train accuracy: 96.9620253164557 %\n",
      "test accuracy: 75.0 %\n"
     ]
    }
   ],
   "source": [
    "# Run the model!\n",
    "# ⏰ Expect your code to take several minutes to run\n",
    "output = model(train_img_final, train_labels_final, test_img_final, test_labels_final,\n",
    "               num_iterations=2000, learning_rate=0.005, print_cost=True)"
   ]
  },
  {
   "cell_type": "markdown",
   "metadata": {},
   "source": [
    "## Summary\n",
    "\n",
    "Well done! In this lab you built your first neural network in order to identify images of Santa! In the upcoming labs you'll see how to extend your neural networks to include a larger number of layers and how to then successively prune these complex schemas to improve test and train accuracies."
   ]
  }
 ],
 "metadata": {
  "kernelspec": {
   "display_name": "Python 3",
   "language": "python",
   "name": "python3"
  },
  "language_info": {
   "codemirror_mode": {
    "name": "ipython",
    "version": 3
   },
   "file_extension": ".py",
   "mimetype": "text/x-python",
   "name": "python",
   "nbconvert_exporter": "python",
   "pygments_lexer": "ipython3",
   "version": "3.8.5"
  },
  "toc": {
   "base_numbering": 1,
   "nav_menu": {},
   "number_sections": true,
   "sideBar": true,
   "skip_h1_title": false,
   "title_cell": "Table of Contents",
   "title_sidebar": "Contents",
   "toc_cell": false,
   "toc_position": {},
   "toc_section_display": true,
   "toc_window_display": false
  }
 },
 "nbformat": 4,
 "nbformat_minor": 2
}
